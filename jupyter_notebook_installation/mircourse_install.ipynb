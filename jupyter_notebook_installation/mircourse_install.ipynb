{
 "cells": [
  {
   "cell_type": "markdown",
   "metadata": {},
   "source": [
    "<a href=\"https://www.audiolabs-erlangen.de\"><div style=\"position: relative;\"><img style=\"position: relative;\" src=\"https://www.audiolabs-erlangen.de/assets/images/banner.jpg\" width=1000><span style='position: absolute; top: 35px; left: 0px; color: white; font-size: 20px; letter-spacing: 1.9px; text-transform: uppercase; font-family: Helvetica, sans-serif; text-decoration-style: solid; padding: 10px;'>International Audio Laboratories Erlangen</span><img style=\"position: absolute; top: 0px; right: 0px;\" src=\"https://www.audiolabs-erlangen.de/assets/images/alabs.svg\" width=180></div></a>\n",
    "\n",
    "<a href=\"https://www.audiolabs-erlangen.de/fau/professor/mueller/bookFMP\"><img style=\"float: right;\" src=\"https://www.audiolabs-erlangen.de/thumbs/cover_mueller_fmp-cdc9d54b0ea62c6b14b3db2be85a805f.jpg\" width=80></a>\n",
    "\n",
    "\n",
    "# Installing and Testing a Python Environment\n",
    "\n",
    "Authors: <a href=\"https://www.audiolabs-erlangen.de/meinard\">Meinard Müller</a>, <a href=\"https://www.audiolabs-erlangen.de/fau/assistant/zalkow\">Frank Zalkow</a>\n",
    "\n",
    "References:<br>\n",
    "[Mueller2015] Meinard Müller. <a href=\"http://www.music-processing.de/\">Fundamentals of Music Processing</a>. <a href=\"https://www.springer.com/gp/book/9783319219448\"> Springer Verlag</a>, 2015."
   ]
  },
  {
   "cell_type": "markdown",
   "metadata": {},
   "source": [
    "## Installing"
   ]
  },
  {
   "cell_type": "markdown",
   "metadata": {},
   "source": [
    "Install Python 3.6 Miniconda (<https://conda.io/miniconda.html>) with default settings. Then open an Anaconda-aware command line interface (e.g. Anaconda Command Prompt in Windows, standard Terminal in Linux/OS X).\n",
    "\n",
    "Step into the directory containing the provided files `environment.yml` and `install.ipynb` and create a Python environment (named `FMP`) for this course. You may confirm on demand. Also note it could take a while.\n",
    "\n",
    "```\n",
    "conda env create -f environment.yml\n",
    "```\n",
    "\n",
    "Activate your environment with the following command:\n",
    "\n",
    "```\n",
    "conda activate FMP\n",
    "```\n",
    "\n",
    "Now run the following command to start Jupyter.\n",
    "\n",
    "```\n",
    "jupyter notebook\n",
    "```\n",
    "\n",
    "Your default browser should open and show the current directory. If it does not, open your browser and go to <http://localhost:8888>. There you can open a notebook by clicking on its file name."
   ]
  },
  {
   "cell_type": "markdown",
   "metadata": {},
   "source": [
    "## Testing"
   ]
  },
  {
   "cell_type": "markdown",
   "metadata": {},
   "source": [
    "Your browser should display the same file you viewed as an HTML file before. However, this time it is an interactive Jupyter notebook. If everything is installed correctly, you should be able to execute the following cells. For executing a cell, first click on it and then click this button in the menue above: <button class=\"btn btn-default btn-xs\"><i class=\"fa fa-step-forward fa\"></i> Run</button>. As a shortcut for executing a cell one may also use SHIFT+ENTER (&#x21E7;+&#x23ce;). (In some circumstances it can take a while if matplotlib is used for the first time.)"
   ]
  },
  {
   "cell_type": "code",
   "execution_count": 1,
   "metadata": {},
   "outputs": [],
   "source": [
    "import numpy as np\n",
    "from scipy import signal\n",
    "from matplotlib import pyplot as plt\n",
    "from IPython.display import Audio\n",
    "%matplotlib inline\n",
    "\n",
    "fs = 4000\n",
    "t = np.linspace(0, 1, fs + 1)"
   ]
  },
  {
   "cell_type": "markdown",
   "metadata": {},
   "source": [
    "Play Audio:"
   ]
  },
  {
   "cell_type": "code",
   "execution_count": 2,
   "metadata": {
    "scrolled": true
   },
   "outputs": [
    {
     "data": {
      "text/html": [
       "\n",
       "                <audio  controls=\"controls\" >\n",
       "                    <source src=\"data:audio/wav;base64,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\" type=\"audio/wav\" />\n",
       "                    Your browser does not support the audio element.\n",
       "                </audio>\n",
       "              "
      ],
      "text/plain": [
       "<IPython.lib.display.Audio object>"
      ]
     },
     "execution_count": 2,
     "metadata": {},
     "output_type": "execute_result"
    }
   ],
   "source": [
    "chirp = signal.chirp(t, 220, 0.8, 440)\n",
    "Audio(chirp, rate=fs)"
   ]
  },
  {
   "cell_type": "markdown",
   "metadata": {},
   "source": [
    "Display the spectogram:"
   ]
  },
  {
   "cell_type": "code",
   "execution_count": 3,
   "metadata": {},
   "outputs": [
    {
     "data": {
      "text/plain": [
       "<matplotlib.colorbar.Colorbar at 0x1c1a276cd0>"
      ]
     },
     "execution_count": 3,
     "metadata": {},
     "output_type": "execute_result"
    },
    {
     "data": {
      "image/png": "[encoded data removed]",
      "text/plain": [
       "<Figure size 432x288 with 2 Axes>"
      ]
     },
     "metadata": {
      "needs_background": "light"
     },
     "output_type": "display_data"
    }
   ],
   "source": [
    "winsize = 256\n",
    "spec, freqs, t, img = plt.specgram(chirp, Fs=fs, NFFT=winsize, noverlap=winsize//2, mode='magnitude', scale='dB')\n",
    "plt.ylim([0, 660])\n",
    "plt.xlabel('Time (seconds)')\n",
    "plt.ylabel('Frequency (Hertz)')\n",
    "plt.colorbar()"
   ]
  },
  {
   "cell_type": "markdown",
   "metadata": {},
   "source": [
    "If everything worked correctly, you got a player for audio playback and you see an image of the spectogram."
   ]
  },
  {
   "cell_type": "markdown",
   "metadata": {},
   "source": [
    "**Acknowledgment:** The International Audio Laboratories Erlangen are a joint institution of the Friedrich-Alexander-Universität Erlangen-Nürnberg (FAU) and Fraunhofer Institute for Integrated Circuits IIS. \n",
    "\n",
    "<table style=\"border: none\">\n",
    "<tr style=\"border: none\">\n",
    "    <td style=\"min-width: 200px; border: none\" bgcolor=\"white\"><img src=\"https://www.audiolabs-erlangen.de/assets/images/alabs.svg\" style=\"height:30px\"> </td>\n",
    "    <td style=\"min-width: 200px; border: none\" bgcolor=\"white\"><img src=\"https://www.audiolabs-erlangen.de/assets/images/fau.svg\" style=\"height:30px\">  </td>\n",
    "    <td style=\"min-width: 200px; border: none\" bgcolor=\"white\"><img src=\"https://www.audiolabs-erlangen.de/assets/images/iis.svg\" style=\"height:30px\"> </td>\n",
    "</tr>\n",
    "</table> \n"
   ]
  }
 ],
 "metadata": {
  "anaconda-cloud": {},
  "kernelspec": {
   "display_name": "Python 3",
   "language": "python",
   "name": "python3"
  },
  "language_info": {
   "codemirror_mode": {
    "name": "ipython",
    "version": 3
   },
   "file_extension": ".py",
   "mimetype": "text/x-python",
   "name": "python",
   "nbconvert_exporter": "python",
   "pygments_lexer": "ipython3",
   "version": "3.7.7"
  },
  "toc": {
   "base_numbering": 1,
   "nav_menu": {},
   "number_sections": true,
   "sideBar": true,
   "skip_h1_title": false,
   "title_cell": "Table of Contents",
   "title_sidebar": "Contents",
   "toc_cell": false,
   "toc_position": {},
   "toc_section_display": true,
   "toc_window_display": false
  },
  "varInspector": {
   "cols": {
    "lenName": 16,
    "lenType": 16,
    "lenVar": 40
   },
   "kernels_config": {
    "python": {
     "delete_cmd_postfix": "",
     "delete_cmd_prefix": "del ",
     "library": "var_list.py",
     "varRefreshCmd": "print(var_dic_list())"
    },
    "r": {
     "delete_cmd_postfix": ") ",
     "delete_cmd_prefix": "rm(",
     "library": "var_list.r",
     "varRefreshCmd": "cat(var_dic_list()) "
    }
   },
   "types_to_exclude": [
    "module",
    "function",
    "builtin_function_or_method",
    "instance",
    "_Feature"
   ],
   "window_display": false
  }
 },
 "nbformat": 4,
 "nbformat_minor": 2
}
